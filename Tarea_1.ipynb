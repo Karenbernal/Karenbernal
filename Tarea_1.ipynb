{
  "nbformat": 4,
  "nbformat_minor": 0,
  "metadata": {
    "colab": {
      "name": "Tarea 1",
      "provenance": [],
      "collapsed_sections": []
    },
    "kernelspec": {
      "name": "python3",
      "display_name": "Python 3"
    },
    "language_info": {
      "name": "python"
    }
  },
  "cells": [
    {
      "cell_type": "code",
      "execution_count": null,
      "metadata": {
        "id": "bgZGT6p_PJmR"
      },
      "outputs": [],
      "source": [
        ""
      ]
    },
    {
      "cell_type": "markdown",
      "source": [
        "# **Computación Estadística**\n",
        "## Tarea 1\n",
        "1. cargar un archivo de excel con ruta permanete en el drive(modulo `pandas`)"
      ],
      "metadata": {
        "id": "wMBj0I9TPLhg"
      }
    },
    {
      "cell_type": "code",
      "source": [
        "from google.colab import drive\n",
        "drive.mount('/content/drive')"
      ],
      "metadata": {
        "colab": {
          "base_uri": "https://localhost:8080/"
        },
        "id": "pIg6b9myP-nJ",
        "outputId": "06d0ee94-81f3-425d-cfe2-cc7800ae1a15"
      },
      "execution_count": 1,
      "outputs": [
        {
          "output_type": "stream",
          "name": "stdout",
          "text": [
            "Mounted at /content/drive\n"
          ]
        }
      ]
    },
    {
      "cell_type": "code",
      "source": [
        "suelo='/content/drive/MyDrive/2020-1/Python/datos_suelos.xlsx'\n",
        "print(suelo)"
      ],
      "metadata": {
        "colab": {
          "base_uri": "https://localhost:8080/"
        },
        "id": "gPj2USUMRPp7",
        "outputId": "47776ea2-67e2-4879-e1a9-61ee675c624f"
      },
      "execution_count": 4,
      "outputs": [
        {
          "output_type": "stream",
          "name": "stdout",
          "text": [
            "/content/drive/MyDrive/2020-1/Python/datos_suelos.xlsx\n"
          ]
        }
      ]
    },
    {
      "cell_type": "markdown",
      "source": [
        "2. Colocar una imagen desde internet\n",
        "\n",
        "\n",
        "![](https://static.vecteezy.com/system/resources/previews/001/209/583/non_2x/corn-farm-png.png)\n",
        "\n",
        "3. Escribir una matriz $4x4$\n",
        "\\begin{vmatrix}\n",
        "11 & 6 & 9 & 6 \\\\\n",
        "7 & 2 & 8 & 5 \\\\\n",
        "1 & 9 & 9 & 4 \\\\\n",
        "2 & 4 & 6 & 2 \\\\\n",
        "\\end{vmatrix}\n",
        "4. Crear un tabla en $\\LaTeX$\n",
        "\n",
        "\\begin{array}{c c c}\n",
        "Tratamiento & Altura & Peso\\\\\n",
        "T1 & 3,4 & 5,3\\\\\n",
        "T2 & 3,6 & 5,1\\\\\n",
        "T3 & 4,2 & 5,6\n",
        "\\end{array}\n",
        "\n",
        "5. Copiar una ecuación estadistica  \n",
        "$$x=\\frac{b^{2}}{2c}$$\n",
        "\n",
        "$$\\sum_{n=0}^{6}{n(x-1)^{n}}$$\n",
        "\n",
        " \n"
      ],
      "metadata": {
        "id": "2NuAz6sURwF2"
      }
    },
    {
      "cell_type": "code",
      "source": [
        ""
      ],
      "metadata": {
        "id": "wLx5rT5DR4g_"
      },
      "execution_count": null,
      "outputs": []
    }
  ]
}